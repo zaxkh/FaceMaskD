{
 "cells": [
  {
   "cell_type": "markdown",
   "metadata": {
    "_uuid": "fe76d1d1ded592430e7548feacfa38dc42f085d9",
    "id": "ChoaqMrws_cN"
   },
   "source": [
    "# Import Library"
   ]
  },
  {
   "cell_type": "code",
   "execution_count": 1,
   "metadata": {
    "_cell_guid": "b1076dfc-b9ad-4769-8c92-a6c4dae69d19",
    "_uuid": "8f2839f25d086af736a60e9eeb907d3b93b6e0e5",
    "id": "qQUOwxuXs_cP"
   },
   "outputs": [],
   "source": [
    "import numpy as np\n",
    "import pandas as pd\n",
    "import tensorflow as tf\n",
    "from tensorflow.keras.preprocessing.image import ImageDataGenerator, load_img\n",
    "from tensorflow.keras.utils import to_categorical\n",
    "from sklearn.model_selection import train_test_split\n",
    "import matplotlib.pyplot as plt\n",
    "import random\n",
    "import os\n",
    "\n",
    "# To prevent Over-Fitting\n",
    "from tensorflow.keras.callbacks import EarlyStopping, ReduceLROnPlateau\n",
    "\n",
    "# Layers Used for Our Model\n",
    "from tensorflow.keras.models import Sequential\n",
    "from tensorflow.keras.layers import Conv2D, MaxPooling2D, Dropout, Flatten, Dense, Activation, BatchNormalization"
   ]
  },
  {
   "cell_type": "code",
   "execution_count": 2,
   "metadata": {
    "colab": {
     "base_uri": "https://localhost:8080/"
    },
    "id": "jOEJzLPOtlQ5",
    "outputId": "1e34b757-7d2d-4e88-822e-300d45bb68f6"
   },
   "outputs": [],
   "source": [
    "dsA =  \"/Users/zakariyyahusain/Downloads/data.Old/\"\n",
    "ds = \"/Users/zakariyyahusain/Downloads/data/\""
   ]
  },
  {
   "cell_type": "markdown",
   "metadata": {
    "id": "Mms25b-ps_cQ"
   },
   "source": [
    "# Define Training Image In Constants"
   ]
  },
  {
   "cell_type": "code",
   "execution_count": 3,
   "metadata": {
    "id": "ZIiIUKtNs_cR"
   },
   "outputs": [],
   "source": [
    "Img_Width=64\n",
    "Img_Height=64\n",
    "Img_Size=(Img_Width, Img_Height)\n",
    "Img_Channels=3"
   ]
  },
  {
   "cell_type": "markdown",
   "metadata": {
    "_uuid": "7335a579cc0268fba5d34d6f7558f33c187eedb3",
    "id": "iCJU_T5as_cS"
   },
   "source": [
    "# Sorting"
   ]
  },
  {
   "cell_type": "code",
   "execution_count": 4,
   "metadata": {
    "_cell_guid": "79c7e3d0-c299-4dcb-8224-4455121ee9b0",
    "_uuid": "d629ff2d2480ee46fbb7e2d37f6b5fab8052498a",
    "id": "jk6V2kQUs_cS"
   },
   "outputs": [],
   "source": [
    "def hyphen_split(filenames):\n",
    "    if filenames.count(\"-\") == 0:\n",
    "        return filenames.split(\"-\")[0]\n",
    "    return \"-\".join(filenames.split(\"-\", 2)[:2])\n",
    "\n",
    "filenames = os.listdir(\"/Users/zakariyyahusain/Downloads/data/with_mask\")\n",
    "filenames1 = os.listdir(\"/Users/zakariyyahusain/Downloads/data/without_mask\")\n",
    "\n",
    "#Filesnames are added to the categories list For both With masks directory and without mask directory.\n",
    "categories = []\n",
    "for filename in filenames:\n",
    "    category = filename\n",
    "    categories.append(0)\n",
    "for filename in filenames1:\n",
    "    category = filename\n",
    "    categories.append(1)\n",
    "filenames = filenames + filenames1\n",
    "\n",
    "#Creating Data frame consisting of the filenames along with their categories\n",
    "df = pd.DataFrame({\n",
    "    'filename': filenames,\n",
    "    'category': categories\n",
    "})\n"
   ]
  },
  {
   "cell_type": "code",
   "execution_count": 5,
   "metadata": {
    "_uuid": "915bb9ba7063ab4d5c07c542419ae119003a5f98",
    "colab": {
     "base_uri": "https://localhost:8080/",
     "height": 204
    },
    "id": "_-ONOPnys_cT",
    "outputId": "0dba8b10-66e4-4c3b-bf89-b9bf4c68480e"
   },
   "outputs": [
    {
     "data": {
      "text/html": [
       "<div>\n",
       "<style scoped>\n",
       "    .dataframe tbody tr th:only-of-type {\n",
       "        vertical-align: middle;\n",
       "    }\n",
       "\n",
       "    .dataframe tbody tr th {\n",
       "        vertical-align: top;\n",
       "    }\n",
       "\n",
       "    .dataframe thead th {\n",
       "        text-align: right;\n",
       "    }\n",
       "</style>\n",
       "<table border=\"1\" class=\"dataframe\">\n",
       "  <thead>\n",
       "    <tr style=\"text-align: right;\">\n",
       "      <th></th>\n",
       "      <th>filename</th>\n",
       "      <th>category</th>\n",
       "    </tr>\n",
       "  </thead>\n",
       "  <tbody>\n",
       "    <tr>\n",
       "      <th>0</th>\n",
       "      <td>with_mask_2140.jpg</td>\n",
       "      <td>0</td>\n",
       "    </tr>\n",
       "    <tr>\n",
       "      <th>1</th>\n",
       "      <td>with_mask_1449.jpg</td>\n",
       "      <td>0</td>\n",
       "    </tr>\n",
       "    <tr>\n",
       "      <th>2</th>\n",
       "      <td>with_mask_2626.jpg</td>\n",
       "      <td>0</td>\n",
       "    </tr>\n",
       "    <tr>\n",
       "      <th>3</th>\n",
       "      <td>with_mask_942.jpg</td>\n",
       "      <td>0</td>\n",
       "    </tr>\n",
       "    <tr>\n",
       "      <th>4</th>\n",
       "      <td>with_mask_3538.jpg</td>\n",
       "      <td>0</td>\n",
       "    </tr>\n",
       "  </tbody>\n",
       "</table>\n",
       "</div>"
      ],
      "text/plain": [
       "             filename  category\n",
       "0  with_mask_2140.jpg         0\n",
       "1  with_mask_1449.jpg         0\n",
       "2  with_mask_2626.jpg         0\n",
       "3   with_mask_942.jpg         0\n",
       "4  with_mask_3538.jpg         0"
      ]
     },
     "execution_count": 5,
     "metadata": {},
     "output_type": "execute_result"
    }
   ],
   "source": [
    "df.head()"
   ]
  },
  {
   "cell_type": "code",
   "execution_count": 6,
   "metadata": {
    "_uuid": "72bf69e817f67f5a2eaff8561217e22077248553",
    "colab": {
     "base_uri": "https://localhost:8080/",
     "height": 204
    },
    "id": "2fXzDgNds_cU",
    "outputId": "4bc7346b-0eb9-4946-b47b-6537dfb12382"
   },
   "outputs": [
    {
     "data": {
      "text/html": [
       "<div>\n",
       "<style scoped>\n",
       "    .dataframe tbody tr th:only-of-type {\n",
       "        vertical-align: middle;\n",
       "    }\n",
       "\n",
       "    .dataframe tbody tr th {\n",
       "        vertical-align: top;\n",
       "    }\n",
       "\n",
       "    .dataframe thead th {\n",
       "        text-align: right;\n",
       "    }\n",
       "</style>\n",
       "<table border=\"1\" class=\"dataframe\">\n",
       "  <thead>\n",
       "    <tr style=\"text-align: right;\">\n",
       "      <th></th>\n",
       "      <th>filename</th>\n",
       "      <th>category</th>\n",
       "    </tr>\n",
       "  </thead>\n",
       "  <tbody>\n",
       "    <tr>\n",
       "      <th>7548</th>\n",
       "      <td>without_mask_2870.jpg</td>\n",
       "      <td>1</td>\n",
       "    </tr>\n",
       "    <tr>\n",
       "      <th>7549</th>\n",
       "      <td>without_mask_2858.jpg</td>\n",
       "      <td>1</td>\n",
       "    </tr>\n",
       "    <tr>\n",
       "      <th>7550</th>\n",
       "      <td>without_mask_2680.jpg</td>\n",
       "      <td>1</td>\n",
       "    </tr>\n",
       "    <tr>\n",
       "      <th>7551</th>\n",
       "      <td>without_mask_1389.jpg</td>\n",
       "      <td>1</td>\n",
       "    </tr>\n",
       "    <tr>\n",
       "      <th>7552</th>\n",
       "      <td>without_mask_2694.jpg</td>\n",
       "      <td>1</td>\n",
       "    </tr>\n",
       "  </tbody>\n",
       "</table>\n",
       "</div>"
      ],
      "text/plain": [
       "                   filename  category\n",
       "7548  without_mask_2870.jpg         1\n",
       "7549  without_mask_2858.jpg         1\n",
       "7550  without_mask_2680.jpg         1\n",
       "7551  without_mask_1389.jpg         1\n",
       "7552  without_mask_2694.jpg         1"
      ]
     },
     "execution_count": 6,
     "metadata": {},
     "output_type": "execute_result"
    }
   ],
   "source": [
    "df.tail()"
   ]
  },
  {
   "cell_type": "markdown",
   "metadata": {
    "_uuid": "a999484fc35b73373fafe2253ae9db7ff46fdb90",
    "id": "AZAX4Zfms_cU"
   },
   "source": [
    "# See Total In count & Check Category sizes are even."
   ]
  },
  {
   "cell_type": "code",
   "execution_count": 7,
   "metadata": {
    "_uuid": "fa26f0bc7a6d835a24989790b20f3c6f32946f45",
    "colab": {
     "base_uri": "https://localhost:8080/",
     "height": 282
    },
    "id": "9thKTXyas_cV",
    "outputId": "bfbfe7c2-4f5b-4d98-8edb-bcc3dc18c61e"
   },
   "outputs": [
    {
     "data": {
      "text/plain": [
       "<AxesSubplot:>"
      ]
     },
     "execution_count": 7,
     "metadata": {},
     "output_type": "execute_result"
    },
    {
     "data": {
      "image/png": "[encoded data removed]",
      "text/plain": [
       "<Figure size 432x288 with 1 Axes>"
      ]
     },
     "metadata": {
      "needs_background": "light"
     },
     "output_type": "display_data"
    }
   ],
   "source": [
    "\n",
    "df['category'].value_counts().plot.bar()"
   ]
  },
  {
   "cell_type": "markdown",
   "metadata": {
    "_uuid": "400a293df3c8499059d9175f3915187074efd971",
    "id": "ih8AynqUs_cV"
   },
   "source": [
    "# See sample image"
   ]
  },
  {
   "cell_type": "code",
   "execution_count": 8,
   "metadata": {
    "_uuid": "602b40f7353871cb161c60b5237f0da0096b2f47",
    "colab": {
     "base_uri": "https://localhost:8080/",
     "height": 286
    },
    "id": "u6ubdNR1s_cW",
    "outputId": "9a9e0a4d-464d-471b-a0f7-6564ab95fee4"
   },
   "outputs": [
    {
     "data": {
      "image/png": "[encoded data removed]",
      "text/plain": [
       "<Figure size 432x288 with 1 Axes>"
      ]
     },
     "metadata": {
      "needs_background": "light"
     },
     "output_type": "display_data"
    }
   ],
   "source": [
    "# iterate over one random image from either catagory\n",
    "for x in range (1):  \n",
    "    try:\n",
    "        sample = random.choice(filenames)\n",
    "        image = load_img(ds+\"with_mask/\"+sample)\n",
    "        plt.imshow(image)\n",
    "    except Exception as e:\n",
    "        image = load_img(ds+\"without_mask/\"+sample)\n",
    "        plt.imshow(image)"
   ]
  },
  {
   "cell_type": "markdown",
   "metadata": {
    "_uuid": "bd496f6c65888a969be3703135b0b03a8a1190c8",
    "id": "4FszFnlRs_cY"
   },
   "source": [
    "# Callbacks"
   ]
  },
  {
   "cell_type": "code",
   "execution_count": 9,
   "metadata": {
    "_uuid": "8010a5661ad8924d2db24af0f3c00b1593b38901",
    "id": "W3AXim2Js_ca"
   },
   "outputs": [],
   "source": [
    "# Define Early stopping.\n",
    "earlystop = EarlyStopping(patience=10)\n",
    "# Learning Rate Reduction when then accuracy not increase for 2 steps.\n",
    "learning_rate_reduction = ReduceLROnPlateau(monitor='val_accuracy', \n",
    "                                            patience=2, \n",
    "                                            verbose=1, \n",
    "                                            factor=0.5, \n",
    "                                            min_lr=0.00001)"
   ]
  },
  {
   "cell_type": "code",
   "execution_count": 10,
   "metadata": {
    "_uuid": "a79cc604199469789f183096d863f7248e5f6aab",
    "id": "nySWtxiXs_cb"
   },
   "outputs": [],
   "source": [
    "callbacks = [earlystop, learning_rate_reduction]"
   ]
  },
  {
   "cell_type": "markdown",
   "metadata": {
    "id": "p6Ggkp3Ms_cb"
   },
   "source": [
    "# Prepration of data"
   ]
  },
  {
   "cell_type": "code",
   "execution_count": 11,
   "metadata": {
    "id": "r1zPHmBYs_cc"
   },
   "outputs": [],
   "source": [
    "# Conversion of 1 to No mask and 0 to Mask\n",
    "df[\"category\"] = df[\"category\"].replace({0: 'Mask', 1: 'No_Mask'}) "
   ]
  },
  {
   "cell_type": "code",
   "execution_count": 12,
   "metadata": {
    "_uuid": "4eeb7af8dcf02c4ef5ca744c8305c51a2f5cedef",
    "id": "EMaBr3Sts_cc"
   },
   "outputs": [],
   "source": [
    "#Split Training & Validation arrays into random train and test subsets\n",
    "train_df, validate_df = train_test_split(df, test_size=0.10, random_state=42)\n",
    "train_df = train_df.reset_index(drop=True)\n",
    "validate_df = validate_df.reset_index(drop=True)"
   ]
  },
  {
   "cell_type": "code",
   "execution_count": 13,
   "metadata": {
    "_uuid": "b84836337441705eda9d2e655665ffa14d9feead",
    "colab": {
     "base_uri": "https://localhost:8080/",
     "height": 317
    },
    "id": "DA6DSxW1s_cd",
    "outputId": "9b95372a-0258-4ecf-842d-26d904ebc752"
   },
   "outputs": [
    {
     "data": {
      "text/plain": [
       "<AxesSubplot:>"
      ]
     },
     "execution_count": 13,
     "metadata": {},
     "output_type": "execute_result"
    },
    {
     "data": {
      "image/png": "[encoded data removed]",
      "text/plain": [
       "<Figure size 432x288 with 1 Axes>"
      ]
     },
     "metadata": {
      "needs_background": "light"
     },
     "output_type": "display_data"
    }
   ],
   "source": [
    "#Verify Training data Count remained the relatively even \n",
    "train_df['category'].value_counts().plot.bar()"
   ]
  },
  {
   "cell_type": "code",
   "execution_count": 14,
   "metadata": {
    "_uuid": "19cf03f9a3c39532d6e2d06bd30be49a5afd9d57",
    "colab": {
     "base_uri": "https://localhost:8080/",
     "height": 317
    },
    "id": "5EcDuowCs_cd",
    "outputId": "5e53fed3-a4be-46d9-93f8-ad26ed5ca718"
   },
   "outputs": [
    {
     "data": {
      "text/plain": [
       "<AxesSubplot:>"
      ]
     },
     "execution_count": 14,
     "metadata": {},
     "output_type": "execute_result"
    },
    {
     "data": {
      "image/png": "[encoded data removed]",
      "text/plain": [
       "<Figure size 432x288 with 1 Axes>"
      ]
     },
     "metadata": {
      "needs_background": "light"
     },
     "output_type": "display_data"
    }
   ],
   "source": [
    "# Verify Validation data Count remained the same\n",
    "validate_df['category'].value_counts().plot.bar()"
   ]
  },
  {
   "cell_type": "code",
   "execution_count": 15,
   "metadata": {
    "_uuid": "ae3dec0361f0443132d0309d3b883ee80070cf9f",
    "id": "mbrfi2Lls_cd"
   },
   "outputs": [],
   "source": [
    "# Defining of training constraints and batch size per iteration\n",
    "total_training = train_df.shape[0]\n",
    "total_validate = validate_df.shape[0]\n",
    "batch_size=15"
   ]
  },
  {
   "cell_type": "markdown",
   "metadata": {
    "_uuid": "ff760be9104f7d9492467b8d9d3405011aa77d11",
    "id": "sJ9ioETds_ce"
   },
   "source": [
    "# Traning Generator"
   ]
  },
  {
   "cell_type": "code",
   "execution_count": 16,
   "metadata": {
    "_uuid": "4d1c7818703a8a4bac5c036fdea45972aa9e5e9e",
    "colab": {
     "base_uri": "https://localhost:8080/"
    },
    "id": "fSM1K2Sis_ce",
    "outputId": "254a163e-bb3a-4c3b-f237-b8d0702e59ec"
   },
   "outputs": [
    {
     "name": "stdout",
     "output_type": "stream",
     "text": [
      "Found 6797 validated image filenames belonging to 2 classes.\n"
     ]
    }
   ],
   "source": [
    "# Defining of constraints for property of tensor images.\n",
    "train_datagen = ImageDataGenerator(\n",
    "    rotation_range=15,\n",
    "    rescale=1./255,\n",
    "    shear_range=0.1,\n",
    "    zoom_range=0.2,\n",
    "    horizontal_flip=True,\n",
    "    width_shift_range=0.1,\n",
    "    height_shift_range=0.1\n",
    ")\n",
    "\n",
    "# One-hot encoding conversion of Column category into a string.\n",
    "training_generator = train_datagen.flow_from_dataframe(\n",
    "    train_df,\n",
    "    dsA,\n",
    "    x_col='filename',\n",
    "    y_col='category',\n",
    "    target_size=Img_Size,\n",
    "    class_mode='categorical',\n",
    "    batch_size=batch_size\n",
    ")"
   ]
  },
  {
   "cell_type": "markdown",
   "metadata": {
    "_uuid": "859c7b2857939c19fd2e3bb32839c9f7deb5aa3f",
    "id": "40t3pc36s_cf"
   },
   "source": [
    "### Validation Generator"
   ]
  },
  {
   "cell_type": "code",
   "execution_count": 17,
   "metadata": {
    "_uuid": "7925e16bcacc89f4484fb6fe47e54d6420af732e",
    "colab": {
     "base_uri": "https://localhost:8080/"
    },
    "id": "B3UKIAFms_cg",
    "outputId": "6db82b6c-a82e-44e7-df2a-28609e9d5360"
   },
   "outputs": [
    {
     "name": "stdout",
     "output_type": "stream",
     "text": [
      "Found 756 validated image filenames belonging to 2 classes.\n"
     ]
    }
   ],
   "source": [
    "# One-hot encoding conversion of Column category into a string.\n",
    "validation_datagen = ImageDataGenerator(rescale=1./255)\n",
    "validation_generator = validation_datagen.flow_from_dataframe(\n",
    "    validate_df, \n",
    "    dsA,\n",
    "    x_col='filename',\n",
    "    y_col='category',\n",
    "    target_size=Img_Size,\n",
    "    class_mode='categorical',\n",
    "    batch_size=batch_size\n",
    ")\n"
   ]
  },
  {
   "cell_type": "code",
   "execution_count": 18,
   "metadata": {
    "colab": {
     "base_uri": "https://localhost:8080/"
    },
    "id": "BnST9aWEIkV0",
    "outputId": "d84afd97-5ae6-4fc2-b16e-c9ef31ae5ab3"
   },
   "outputs": [
    {
     "name": "stdout",
     "output_type": "stream",
     "text": [
      "Model: \"sequential\"\n",
      "_________________________________________________________________\n",
      "Layer (type)                 Output Shape              Param #   \n",
      "=================================================================\n",
      "conv2d (Conv2D)              (None, 62, 62, 32)        896       \n",
      "_________________________________________________________________\n",
      "batch_normalization (BatchNo (None, 62, 62, 32)        128       \n",
      "_________________________________________________________________\n",
      "max_pooling2d (MaxPooling2D) (None, 31, 31, 32)        0         \n",
      "_________________________________________________________________\n",
      "dropout (Dropout)            (None, 31, 31, 32)        0         \n",
      "_________________________________________________________________\n",
      "conv2d_1 (Conv2D)            (None, 29, 29, 64)        18496     \n",
      "_________________________________________________________________\n",
      "batch_normalization_1 (Batch (None, 29, 29, 64)        256       \n",
      "_________________________________________________________________\n",
      "max_pooling2d_1 (MaxPooling2 (None, 14, 14, 64)        0         \n",
      "_________________________________________________________________\n",
      "dropout_1 (Dropout)          (None, 14, 14, 64)        0         \n",
      "_________________________________________________________________\n",
      "conv2d_2 (Conv2D)            (None, 12, 12, 128)       73856     \n",
      "_________________________________________________________________\n",
      "batch_normalization_2 (Batch (None, 12, 12, 128)       512       \n",
      "_________________________________________________________________\n",
      "max_pooling2d_2 (MaxPooling2 (None, 6, 6, 128)         0         \n",
      "_________________________________________________________________\n",
      "dropout_2 (Dropout)          (None, 6, 6, 128)         0         \n",
      "_________________________________________________________________\n",
      "flatten (Flatten)            (None, 4608)              0         \n",
      "_________________________________________________________________\n",
      "dense (Dense)                (None, 512)               2359808   \n",
      "_________________________________________________________________\n",
      "batch_normalization_3 (Batch (None, 512)               2048      \n",
      "_________________________________________________________________\n",
      "dropout_3 (Dropout)          (None, 512)               0         \n",
      "_________________________________________________________________\n",
      "dense_1 (Dense)              (None, 2)                 1026      \n",
      "=================================================================\n",
      "Total params: 2,457,026\n",
      "Trainable params: 2,455,554\n",
      "Non-trainable params: 1,472\n",
      "_________________________________________________________________\n"
     ]
    }
   ],
   "source": [
    "#CNN Model Artichect\n",
    "model = Sequential()\n",
    "\n",
    "#Input Layer Using Inital Constraints\n",
    "#First Convolutional Layers\n",
    "model.add(Conv2D(32, (3, 3), activation='relu', input_shape=(Img_Width, Img_Height, Img_Channels)))\n",
    "model.add(BatchNormalization())\n",
    "#Down sampling using Max-pooling layer\n",
    "model.add(MaxPooling2D(pool_size=(2, 2)))\n",
    "model.add(Dropout(0.25))\n",
    "\n",
    "#Second Convolutional Layer\n",
    "model.add(Conv2D(64, (3, 3), activation='relu'))\n",
    "model.add(BatchNormalization())\n",
    "model.add(MaxPooling2D(pool_size=(2, 2)))\n",
    "model.add(Dropout(0.25))\n",
    "\n",
    "#Third Convolutional Layer\n",
    "model.add(Conv2D(128, (3, 3), activation='relu'))\n",
    "model.add(BatchNormalization())\n",
    "model.add(MaxPooling2D(pool_size=(2, 2)))\n",
    "model.add(Dropout(0.25))\n",
    "\n",
    "#Fully Connected Layer\n",
    "model.add(Flatten())\n",
    "model.add(Dense(512, activation='relu'))\n",
    "model.add(BatchNormalization())\n",
    "model.add(Dropout(0.5))\n",
    "\n",
    "#Output Layer\n",
    "#Two Dense Layers for both catagories\n",
    "model.add(Dense(2, activation='softmax')) \n",
    "\n",
    "# Defining learning rate decay and optimiser \n",
    "model.compile(loss='binary_crossentropy', optimizer='adam', metrics=['accuracy'])\n",
    "\n",
    "model.summary()"
   ]
  },
  {
   "cell_type": "markdown",
   "metadata": {
    "_uuid": "5cd8df64e794ed17de326b613a9819e7da977a0e",
    "id": "YlItpmw-s_ci"
   },
   "source": [
    "# Train Model"
   ]
  },
  {
   "cell_type": "code",
   "execution_count": 19,
   "metadata": {
    "_uuid": "0836a4cc8aa0abf603e0f96573c0c4ff383ad56b",
    "colab": {
     "base_uri": "https://localhost:8080/"
    },
    "id": "V7zpSsM9s_ci",
    "outputId": "f0704e72-1da3-4ea9-8116-5b86e449659d"
   },
   "outputs": [
    {
     "name": "stdout",
     "output_type": "stream",
     "text": [
      "Epoch 1/50\n",
      "140/453 [========>.....................] - ETA: 21s - loss: 0.6389 - accuracy: 0.7867"
     ]
    },
    {
     "name": "stderr",
     "output_type": "stream",
     "text": [
      "/Users/zakariyyahusain/opt/anaconda3/lib/python3.8/site-packages/PIL/Image.py:951: UserWarning: Palette images with Transparency expressed in bytes should be converted to RGBA images\n",
      "  warnings.warn(\n"
     ]
    },
    {
     "name": "stdout",
     "output_type": "stream",
     "text": [
      "453/453 [==============================] - 34s 73ms/step - loss: 0.5161 - accuracy: 0.8207 - val_loss: 0.9540 - val_accuracy: 0.6867\n",
      "Epoch 2/50\n",
      "453/453 [==============================] - 34s 75ms/step - loss: 0.3019 - accuracy: 0.8844 - val_loss: 0.3686 - val_accuracy: 0.8213\n",
      "Epoch 3/50\n",
      "453/453 [==============================] - 34s 74ms/step - loss: 0.2666 - accuracy: 0.8921 - val_loss: 0.1551 - val_accuracy: 0.9360\n",
      "Epoch 4/50\n",
      "453/453 [==============================] - 34s 74ms/step - loss: 0.2432 - accuracy: 0.9040 - val_loss: 0.1464 - val_accuracy: 0.9480\n",
      "Epoch 5/50\n",
      "453/453 [==============================] - 34s 75ms/step - loss: 0.2138 - accuracy: 0.9162 - val_loss: 0.1102 - val_accuracy: 0.9613\n",
      "Epoch 6/50\n",
      "453/453 [==============================] - 34s 74ms/step - loss: 0.2063 - accuracy: 0.9168 - val_loss: 0.2667 - val_accuracy: 0.8933\n",
      "Epoch 7/50\n",
      "453/453 [==============================] - 34s 75ms/step - loss: 0.1904 - accuracy: 0.9286 - val_loss: 0.1605 - val_accuracy: 0.9387\n",
      "\n",
      "Epoch 00007: ReduceLROnPlateau reducing learning rate to 0.0005000000237487257.\n",
      "Epoch 8/50\n",
      "453/453 [==============================] - 34s 76ms/step - loss: 0.2033 - accuracy: 0.9207 - val_loss: 0.1543 - val_accuracy: 0.9360\n",
      "Epoch 9/50\n",
      "453/453 [==============================] - 34s 75ms/step - loss: 0.1789 - accuracy: 0.9344 - val_loss: 0.0963 - val_accuracy: 0.9680\n",
      "Epoch 10/50\n",
      "453/453 [==============================] - 34s 74ms/step - loss: 0.1741 - accuracy: 0.9344 - val_loss: 0.0877 - val_accuracy: 0.9707\n",
      "Epoch 11/50\n",
      "453/453 [==============================] - 34s 74ms/step - loss: 0.1676 - accuracy: 0.9356 - val_loss: 0.1284 - val_accuracy: 0.9600\n",
      "Epoch 12/50\n",
      "453/453 [==============================] - 34s 75ms/step - loss: 0.1803 - accuracy: 0.9311 - val_loss: 0.0919 - val_accuracy: 0.9720\n",
      "Epoch 13/50\n",
      "453/453 [==============================] - 34s 76ms/step - loss: 0.1601 - accuracy: 0.9415 - val_loss: 0.0544 - val_accuracy: 0.9827\n",
      "Epoch 14/50\n",
      "453/453 [==============================] - 34s 75ms/step - loss: 0.1598 - accuracy: 0.9405 - val_loss: 0.0671 - val_accuracy: 0.9760\n",
      "Epoch 15/50\n",
      "453/453 [==============================] - 33s 74ms/step - loss: 0.1693 - accuracy: 0.9376 - val_loss: 0.0982 - val_accuracy: 0.9613\n",
      "\n",
      "Epoch 00015: ReduceLROnPlateau reducing learning rate to 0.0002500000118743628.\n",
      "Epoch 16/50\n",
      "453/453 [==============================] - 33s 72ms/step - loss: 0.1366 - accuracy: 0.9532 - val_loss: 0.0472 - val_accuracy: 0.9827\n",
      "Epoch 17/50\n",
      "453/453 [==============================] - 32s 71ms/step - loss: 0.1240 - accuracy: 0.9549 - val_loss: 0.0638 - val_accuracy: 0.9800\n",
      "\n",
      "Epoch 00017: ReduceLROnPlateau reducing learning rate to 0.0001250000059371814.\n",
      "Epoch 18/50\n",
      "453/453 [==============================] - 32s 71ms/step - loss: 0.1281 - accuracy: 0.9585 - val_loss: 0.0522 - val_accuracy: 0.9813\n",
      "Epoch 19/50\n",
      "453/453 [==============================] - 32s 71ms/step - loss: 0.1120 - accuracy: 0.9561 - val_loss: 0.0532 - val_accuracy: 0.9840\n",
      "Epoch 20/50\n",
      "453/453 [==============================] - 34s 74ms/step - loss: 0.1151 - accuracy: 0.9588 - val_loss: 0.0459 - val_accuracy: 0.9840\n",
      "Epoch 21/50\n",
      "453/453 [==============================] - 34s 76ms/step - loss: 0.1173 - accuracy: 0.9532 - val_loss: 0.0580 - val_accuracy: 0.9813\n",
      "\n",
      "Epoch 00021: ReduceLROnPlateau reducing learning rate to 6.25000029685907e-05.\n",
      "Epoch 22/50\n",
      "453/453 [==============================] - 33s 72ms/step - loss: 0.1211 - accuracy: 0.9598 - val_loss: 0.0431 - val_accuracy: 0.9840\n",
      "Epoch 23/50\n",
      "453/453 [==============================] - 33s 74ms/step - loss: 0.1024 - accuracy: 0.9609 - val_loss: 0.0338 - val_accuracy: 0.9840\n",
      "\n",
      "Epoch 00023: ReduceLROnPlateau reducing learning rate to 3.125000148429535e-05.\n",
      "Epoch 24/50\n",
      "453/453 [==============================] - 33s 72ms/step - loss: 0.1086 - accuracy: 0.9645 - val_loss: 0.0392 - val_accuracy: 0.9840\n",
      "Epoch 25/50\n",
      "453/453 [==============================] - 33s 74ms/step - loss: 0.0940 - accuracy: 0.9662 - val_loss: 0.0380 - val_accuracy: 0.9840\n",
      "\n",
      "Epoch 00025: ReduceLROnPlateau reducing learning rate to 1.5625000742147677e-05.\n",
      "Epoch 26/50\n",
      "453/453 [==============================] - 34s 75ms/step - loss: 0.0985 - accuracy: 0.9638 - val_loss: 0.0369 - val_accuracy: 0.9867\n",
      "Epoch 27/50\n",
      "453/453 [==============================] - 34s 74ms/step - loss: 0.1052 - accuracy: 0.9654 - val_loss: 0.0374 - val_accuracy: 0.9853\n",
      "Epoch 28/50\n",
      "453/453 [==============================] - 34s 74ms/step - loss: 0.1100 - accuracy: 0.9583 - val_loss: 0.0389 - val_accuracy: 0.9840\n",
      "\n",
      "Epoch 00028: ReduceLROnPlateau reducing learning rate to 1e-05.\n",
      "Epoch 29/50\n",
      "453/453 [==============================] - 34s 74ms/step - loss: 0.0998 - accuracy: 0.9651 - val_loss: 0.0389 - val_accuracy: 0.9840\n",
      "Epoch 30/50\n",
      "453/453 [==============================] - 34s 75ms/step - loss: 0.0853 - accuracy: 0.9695 - val_loss: 0.0411 - val_accuracy: 0.9840\n",
      "Epoch 31/50\n",
      "453/453 [==============================] - 35s 77ms/step - loss: 0.1138 - accuracy: 0.9576 - val_loss: 0.0396 - val_accuracy: 0.9827\n",
      "Epoch 32/50\n",
      "453/453 [==============================] - 34s 76ms/step - loss: 0.0926 - accuracy: 0.9683 - val_loss: 0.0390 - val_accuracy: 0.9840\n",
      "Epoch 33/50\n",
      "453/453 [==============================] - 34s 75ms/step - loss: 0.0918 - accuracy: 0.9667 - val_loss: 0.0413 - val_accuracy: 0.9840\n"
     ]
    }
   ],
   "source": [
    "# Start Training for defined number epochs given that overfitting has not occured and reduction in learning rate has not occured\n",
    "Run = False\n",
    "epochs=3 if Run else 50\n",
    "history = model.fit(\n",
    "    training_generator, \n",
    "    epochs=epochs,\n",
    "    validation_data=validation_generator,\n",
    "    validation_steps=total_validate//batch_size,\n",
    "    steps_per_epoch=total_training//batch_size,\n",
    "    callbacks=callbacks\n",
    ")"
   ]
  },
  {
   "cell_type": "markdown",
   "metadata": {
    "_uuid": "aa1fbc4081ae0de2993188b2bf658a0be5bc0687",
    "id": "UhTKHJMWs_ci"
   },
   "source": [
    "# Save Model"
   ]
  },
  {
   "cell_type": "code",
   "execution_count": 20,
   "metadata": {
    "_uuid": "67575a4decdaf79a915d23151626b784ffa82642",
    "id": "ykyzPEyWs_cj"
   },
   "outputs": [],
   "source": [
    "model.save_weights(\"modelnew13.h5\")"
   ]
  },
  {
   "cell_type": "code",
   "execution_count": null,
   "metadata": {},
   "outputs": [],
   "source": []
  }
 ],
 "metadata": {
  "accelerator": "GPU",
  "colab": {
   "name": "keras_cnn_dog_or_cat_classification.ipynb",
   "provenance": []
  },
  "kernelspec": {
   "display_name": "Python 3",
   "language": "python",
   "name": "python3"
  },
  "language_info": {
   "codemirror_mode": {
    "name": "ipython",
    "version": 3
   },
   "file_extension": ".py",
   "mimetype": "text/x-python",
   "name": "python",
   "nbconvert_exporter": "python",
   "pygments_lexer": "ipython3",
   "version": "3.8.5"
  }
 },
 "nbformat": 4,
 "nbformat_minor": 4
}
