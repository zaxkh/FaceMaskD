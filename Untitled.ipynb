{
 "cells": [
  {
   "cell_type": "code",
   "execution_count": 2,
   "metadata": {},
   "outputs": [
    {
     "name": "stdout",
     "output_type": "stream",
     "text": [
      "Epoch 1/10\n",
      "8/8 [==============================] - 26s 3s/step - loss: 6.1195 - accuracy: 0.5440 - val_loss: 0.6938 - val_accuracy: 0.5000\n",
      "Epoch 2/10\n",
      "8/8 [==============================] - 20s 2s/step - loss: 0.7070 - accuracy: 0.5468 - val_loss: 0.6672 - val_accuracy: 0.6471\n",
      "Epoch 3/10\n",
      "8/8 [==============================] - 20s 3s/step - loss: 0.6504 - accuracy: 0.6751 - val_loss: 0.7009 - val_accuracy: 0.6373\n",
      "Epoch 4/10\n",
      "8/8 [==============================] - 20s 2s/step - loss: 0.5567 - accuracy: 0.7412 - val_loss: 0.8151 - val_accuracy: 0.5490\n",
      "Epoch 5/10\n",
      "8/8 [==============================] - 20s 3s/step - loss: 0.5764 - accuracy: 0.6667 - val_loss: 0.5697 - val_accuracy: 0.7255\n",
      "Epoch 6/10\n",
      "8/8 [==============================] - 19s 2s/step - loss: 0.3861 - accuracy: 0.8495 - val_loss: 0.5977 - val_accuracy: 0.7353\n",
      "Epoch 7/10\n",
      "8/8 [==============================] - 19s 2s/step - loss: 0.3455 - accuracy: 0.8312 - val_loss: 0.5480 - val_accuracy: 0.7549\n",
      "Epoch 8/10\n",
      "8/8 [==============================] - 19s 2s/step - loss: 0.2345 - accuracy: 0.9087 - val_loss: 0.6022 - val_accuracy: 0.7843\n",
      "Epoch 9/10\n",
      "8/8 [==============================] - 20s 3s/step - loss: 0.1482 - accuracy: 0.9438 - val_loss: 0.7786 - val_accuracy: 0.7255\n",
      "Epoch 10/10\n",
      "8/8 [==============================] - 20s 3s/step - loss: 0.1153 - accuracy: 0.9620 - val_loss: 0.6468 - val_accuracy: 0.8137\n"
     ]
    },
    {
     "data": {
      "text/plain": [
       "<tensorflow.python.keras.callbacks.History at 0x7fb92d7be1c0>"
      ]
     },
     "execution_count": 2,
     "metadata": {},
     "output_type": "execute_result"
    }
   ],
   "source": [
    "from tensorflow.keras.models import Sequential\n",
    "from tensorflow.keras.layers import Dense, Dropout, Activation, Flatten\n",
    "from tensorflow.keras.layers import Conv2D, MaxPooling2D\n",
    "import numpy as np\n",
    "# more info on callbakcs: https://keras.io/callbacks/ model saver is cool too.\n",
    "from tensorflow.keras.callbacks import TensorBoard\n",
    "import time\n",
    "\n",
    "NAME = \"Mask-64x2-CNN\"\n",
    "\n",
    "X=np.load('features.npy')\n",
    "y=np.load('featuresY.npy')\n",
    "\n",
    "X = X/255.0\n",
    "\n",
    "model = Sequential()\n",
    "\n",
    "model.add(Conv2D(64, (3, 3), input_shape=X.shape[1:]))\n",
    "model.add(Activation('relu'))\n",
    "model.add(MaxPooling2D(pool_size=(2, 2)))\n",
    "\n",
    "model.add(Conv2D(64, (3, 3)))\n",
    "model.add(Activation('relu'))\n",
    "model.add(MaxPooling2D(pool_size=(2, 2)))\n",
    "\n",
    "model.add(Flatten())  # this converts our 3D feature maps to 1D feature vectors\n",
    "model.add(Dense(64))\n",
    "model.add(Activation('relu'))\n",
    "\n",
    "model.add(Dense(1))\n",
    "model.add(Activation('sigmoid'))\n",
    "\n",
    "tensorboard = TensorBoard(log_dir=\"logs/{}\".format(NAME))\n",
    "\n",
    "model.compile(loss='binary_crossentropy',\n",
    "              optimizer='adam',\n",
    "              metrics=['accuracy'],\n",
    "              )\n",
    "\n",
    "model.fit(X, y,\n",
    "          batch_size=32,\n",
    "          epochs=10,\n",
    "          validation_split=0.3,\n",
    "          callbacks=[tensorboard])"
   ]
  },
  {
   "cell_type": "code",
   "execution_count": null,
   "metadata": {},
   "outputs": [],
   "source": [
    "img = test_images[1]\n",
    "\n",
    "print(img.shape)"
   ]
  }
 ],
 "metadata": {
  "kernelspec": {
   "display_name": "Python 3",
   "language": "python",
   "name": "python3"
  },
  "language_info": {
   "codemirror_mode": {
    "name": "ipython",
    "version": 3
   },
   "file_extension": ".py",
   "mimetype": "text/x-python",
   "name": "python",
   "nbconvert_exporter": "python",
   "pygments_lexer": "ipython3",
   "version": "3.8.5"
  }
 },
 "nbformat": 4,
 "nbformat_minor": 4
}
